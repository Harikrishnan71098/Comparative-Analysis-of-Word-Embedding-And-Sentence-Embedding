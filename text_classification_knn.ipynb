{
  "nbformat": 4,
  "nbformat_minor": 0,
  "metadata": {
    "kernelspec": {
      "display_name": "Python 3",
      "language": "python",
      "name": "python3"
    },
    "language_info": {
      "codemirror_mode": {
        "name": "ipython",
        "version": 3
      },
      "file_extension": ".py",
      "mimetype": "text/x-python",
      "name": "python",
      "nbconvert_exporter": "python",
      "pygments_lexer": "ipython3",
      "version": "3.7.4"
    },
    "colab": {
      "name": "text_classification_knn.ipynb",
      "provenance": [],
      "collapsed_sections": [],
      "include_colab_link": true
    }
  },
  "cells": [
    {
      "cell_type": "markdown",
      "metadata": {
        "id": "view-in-github",
        "colab_type": "text"
      },
      "source": [
        "<a href=\"https://colab.research.google.com/github/Harikrishnan71098/Comparative-Analysis-of-Word-Embedding-And-Sentence-Embedding/blob/main/text_classification_knn.ipynb\" target=\"_parent\"><img src=\"https://colab.research.google.com/assets/colab-badge.svg\" alt=\"Open In Colab\"/></a>"
      ]
    },
    {
      "cell_type": "code",
      "metadata": {
        "id": "qMlESkXegtyY"
      },
      "source": [
        "# Commented out IPython magic to ensure Python compatibility.\n",
        "# import required modules\n",
        "import numpy as np\n",
        "from sklearn.feature_extraction.text import TfidfVectorizer\n",
        "import matplotlib.pyplot as plt\n",
        " \n",
        "# %matplotlib inline"
      ],
      "execution_count": null,
      "outputs": []
    },
    {
      "cell_type": "markdown",
      "metadata": {
        "id": "rUFLoQ_8I1nD"
      },
      "source": [
        "text classification"
      ]
    },
    {
      "cell_type": "code",
      "metadata": {
        "id": "yBP70r58gt0H",
        "colab": {
          "base_uri": "https://localhost:8080/",
          "height": 51
        },
        "outputId": "e8af6f50-2487-4779-a86b-60d4b7e159ca"
      },
      "source": [
        "# import 20 newsgroup dataset\n",
        "from sklearn.datasets import fetch_20newsgroups\n",
        " \n",
        "#categories = ['alt.atheism', 'comp.graphics', 'sci.space']\n",
        "categories = None\n",
        "data_train = fetch_20newsgroups(subset='train', remove=('headers', 'footers', 'quotes'), categories=categories)\n",
        "data_test = fetch_20newsgroups(subset='test', remove=('headers', 'footers', 'quotes'), categories=categories)"
      ],
      "execution_count": null,
      "outputs": [
        {
          "output_type": "stream",
          "text": [
            "Downloading 20news dataset. This may take a few minutes.\n",
            "Downloading dataset from https://ndownloader.figshare.com/files/5975967 (14 MB)\n"
          ],
          "name": "stderr"
        }
      ]
    },
    {
      "cell_type": "markdown",
      "metadata": {
        "id": "3JjG26ODQ7xV"
      },
      "source": [
        "   The 20 Newsgroups data set is a collection of approximately 20,000 newsgroup documents, partitioned (nearly) evenly across 20 different newsgroups.The 20 newsgroups collection has become a popular data set for experiments in text applications of machine learning techniques, such as text classification and text clustering"
      ]
    },
    {
      "cell_type": "code",
      "metadata": {
        "id": "Ej7O4MKVgt3h",
        "colab": {
          "base_uri": "https://localhost:8080/",
          "height": 34
        },
        "outputId": "042d298e-436a-4a4c-c640-b45ed5e801b6"
      },
      "source": [
        "type(data_train)\n",
        "type(data_test)"
      ],
      "execution_count": null,
      "outputs": [
        {
          "output_type": "execute_result",
          "data": {
            "text/plain": [
              "sklearn.utils.Bunch"
            ]
          },
          "metadata": {
            "tags": []
          },
          "execution_count": 3
        }
      ]
    },
    {
      "cell_type": "code",
      "metadata": {
        "id": "l9ND7a1Xgt5U",
        "colab": {
          "base_uri": "https://localhost:8080/",
          "height": 51
        },
        "outputId": "838361bf-4cbd-42b3-e9c7-9d0c100a590f"
      },
      "source": [
        " \n",
        " \n",
        "print(\"Train data target labels:\",data_train.target)\n",
        "print (\"Test data target labels:\",data_test.target)"
      ],
      "execution_count": null,
      "outputs": [
        {
          "output_type": "stream",
          "text": [
            "Train data target labels: [7 4 4 ... 3 1 8]\n",
            "Test data target labels: [ 7  5  0 ...  9  6 15]\n"
          ],
          "name": "stdout"
        }
      ]
    },
    {
      "cell_type": "code",
      "metadata": {
        "id": "67zAMJWHgt8_",
        "colab": {
          "base_uri": "https://localhost:8080/",
          "height": 71
        },
        "outputId": "6a748b36-8d9a-42e5-de7e-70f88313409b"
      },
      "source": [
        "print (\"Train data target names:\",data_train.target_names)\n",
        "print (\"Test data target names:\",data_test.target_names)"
      ],
      "execution_count": null,
      "outputs": [
        {
          "output_type": "stream",
          "text": [
            "Train data target names: ['alt.atheism', 'comp.graphics', 'comp.os.ms-windows.misc', 'comp.sys.ibm.pc.hardware', 'comp.sys.mac.hardware', 'comp.windows.x', 'misc.forsale', 'rec.autos', 'rec.motorcycles', 'rec.sport.baseball', 'rec.sport.hockey', 'sci.crypt', 'sci.electronics', 'sci.med', 'sci.space', 'soc.religion.christian', 'talk.politics.guns', 'talk.politics.mideast', 'talk.politics.misc', 'talk.religion.misc']\n",
            "Test data target names: ['alt.atheism', 'comp.graphics', 'comp.os.ms-windows.misc', 'comp.sys.ibm.pc.hardware', 'comp.sys.mac.hardware', 'comp.windows.x', 'misc.forsale', 'rec.autos', 'rec.motorcycles', 'rec.sport.baseball', 'rec.sport.hockey', 'sci.crypt', 'sci.electronics', 'sci.med', 'sci.space', 'soc.religion.christian', 'talk.politics.guns', 'talk.politics.mideast', 'talk.politics.misc', 'talk.religion.misc']\n"
          ],
          "name": "stdout"
        }
      ]
    },
    {
      "cell_type": "code",
      "metadata": {
        "id": "dQ-Gx4akgt-v",
        "colab": {
          "base_uri": "https://localhost:8080/",
          "height": 51
        },
        "outputId": "468c1541-8aff-4a9e-a357-b4175e317e94"
      },
      "source": [
        "print (\"Total train data:\",len(data_train.data))\n",
        "print (\"Total test data:\",len(data_test.data))"
      ],
      "execution_count": null,
      "outputs": [
        {
          "output_type": "stream",
          "text": [
            "Total train data: 11314\n",
            "Total test data: 7532\n"
          ],
          "name": "stdout"
        }
      ]
    },
    {
      "cell_type": "code",
      "metadata": {
        "id": "cDj_ol6RguDr",
        "colab": {
          "base_uri": "https://localhost:8080/",
          "height": 85
        },
        "outputId": "190a3361-efd6-46fe-cb07-a175f4d688b9"
      },
      "source": [
        "# Train data type\n",
        "print (type(data_train.data))\n",
        "print (type(data_train.target))\n",
        " \n",
        "# Test data type\n",
        "print (type(data_test.data))\n",
        "print (type(data_test.target))"
      ],
      "execution_count": null,
      "outputs": [
        {
          "output_type": "stream",
          "text": [
            "<class 'list'>\n",
            "<class 'numpy.ndarray'>\n",
            "<class 'list'>\n",
            "<class 'numpy.ndarray'>\n"
          ],
          "name": "stdout"
        }
      ]
    },
    {
      "cell_type": "markdown",
      "metadata": {
        "id": "khQRXVOAhjvd"
      },
      "source": [
        "# **working with data in scikit-learn**"
      ]
    },
    {
      "cell_type": "code",
      "metadata": {
        "id": "0IJb5WhTguHh"
      },
      "source": [
        "# So, first converting text data into vectors of numerical values using tf-idf to form feature vector\n",
        "vectorizer = TfidfVectorizer()\n",
        "data_train_vectors = vectorizer.fit_transform(data_train.data)\n",
        "data_test_vectors = vectorizer.transform(data_test.data)"
      ],
      "execution_count": null,
      "outputs": []
    },
    {
      "cell_type": "code",
      "metadata": {
        "id": "V3rGoStxguJi",
        "colab": {
          "base_uri": "https://localhost:8080/",
          "height": 85
        },
        "outputId": "13e388a5-0e80-471e-bef5-bbfc6e72a529"
      },
      "source": [
        "# Train data type\n",
        "print (type(data_train_vectors.data))\n",
        "print (type(data_train.target))\n",
        " \n",
        "# Test data type\n",
        "print (type(data_test_vectors.data))\n",
        "print (type(data_test.target))"
      ],
      "execution_count": null,
      "outputs": [
        {
          "output_type": "stream",
          "text": [
            "<class 'numpy.ndarray'>\n",
            "<class 'numpy.ndarray'>\n",
            "<class 'numpy.ndarray'>\n",
            "<class 'numpy.ndarray'>\n"
          ],
          "name": "stdout"
        }
      ]
    },
    {
      "cell_type": "code",
      "metadata": {
        "id": "soRkVASpguNQ",
        "colab": {
          "base_uri": "https://localhost:8080/",
          "height": 34
        },
        "outputId": "f3c820c6-9b6c-4f14-cd9a-67160bbc2009"
      },
      "source": [
        "# check the shape of the features matrix\n",
        "print(data_train_vectors.shape)"
      ],
      "execution_count": null,
      "outputs": [
        {
          "output_type": "stream",
          "text": [
            "(11314, 101631)\n"
          ],
          "name": "stdout"
        }
      ]
    },
    {
      "cell_type": "code",
      "metadata": {
        "id": "YqEMWwCsguPm",
        "colab": {
          "base_uri": "https://localhost:8080/",
          "height": 34
        },
        "outputId": "fca2df92-f67a-41b8-cda6-b40ca65bca40"
      },
      "source": [
        "# check the shape of the response (single dimension matching the number of observations)\n",
        "print(data_train.target.shape)"
      ],
      "execution_count": null,
      "outputs": [
        {
          "output_type": "stream",
          "text": [
            "(11314,)\n"
          ],
          "name": "stdout"
        }
      ]
    },
    {
      "cell_type": "code",
      "metadata": {
        "id": "mRE5D0jkguCO",
        "colab": {
          "base_uri": "https://localhost:8080/",
          "height": 918
        },
        "outputId": "725efedf-2728-462f-b33b-4f02ca863c4d"
      },
      "source": [
        "# store training feature matrix in \"Xtr\"\n",
        "Xtr = data_train_vectors\n",
        "print(\"Xtr:\\n\", Xtr)\n",
        " \n",
        "# store training response vector in \"ytr\"\n",
        "ytr = data_train.target\n",
        "print(\"ytr:\",ytr)"
      ],
      "execution_count": null,
      "outputs": [
        {
          "output_type": "stream",
          "text": [
            "Xtr:\n",
            "   (0, 59216)\t0.08725268270111304\n",
            "  (0, 71850)\t0.07616585088687908\n",
            "  (0, 57393)\t0.0923857759707218\n",
            "  (0, 41979)\t0.19506948098166685\n",
            "  (0, 45885)\t0.04116726358517173\n",
            "  (0, 100208)\t0.04162912251846176\n",
            "  (0, 49932)\t0.10311614467122757\n",
            "  (0, 96395)\t0.10736893400961603\n",
            "  (0, 68409)\t0.045794107112368615\n",
            "  (0, 46814)\t0.10862631323814369\n",
            "  (0, 59079)\t0.08409501360833291\n",
            "  (0, 96433)\t0.07424754622734692\n",
            "  (0, 73373)\t0.14022858154649154\n",
            "  (0, 99911)\t0.0818197705881931\n",
            "  (0, 84276)\t0.14185552804207183\n",
            "  (0, 37287)\t0.12458509983363618\n",
            "  (0, 64931)\t0.09279094041294153\n",
            "  (0, 62746)\t0.11325721998728744\n",
            "  (0, 88143)\t0.2242035496067306\n",
            "  (0, 25590)\t0.048870877324188766\n",
            "  (0, 54632)\t0.06048007039093347\n",
            "  (0, 17936)\t0.052663855225258106\n",
            "  (0, 51136)\t0.06865521705397437\n",
            "  (0, 23480)\t0.1123868370862882\n",
            "  (0, 67670)\t0.06456572940695553\n",
            "  :\t:\n",
            "  (11313, 81742)\t0.13241254413957532\n",
            "  (11313, 81792)\t0.14804499058455659\n",
            "  (11313, 40387)\t0.0867206848739519\n",
            "  (11313, 47209)\t0.15303400468821185\n",
            "  (11313, 25475)\t0.13373887048501934\n",
            "  (11313, 90644)\t0.11716855199310572\n",
            "  (11313, 6044)\t0.20918997009133847\n",
            "  (11313, 44748)\t0.11070348996423005\n",
            "  (11313, 22529)\t0.09187360726787282\n",
            "  (11313, 68997)\t0.0833655821220648\n",
            "  (11313, 46271)\t0.08973049108297083\n",
            "  (11313, 2777)\t0.10299961438227635\n",
            "  (11313, 66242)\t0.06149181729960768\n",
            "  (11313, 20123)\t0.05436048417734594\n",
            "  (11313, 57131)\t0.08897900001645209\n",
            "  (11313, 64435)\t0.058038402626956455\n",
            "  (11313, 18521)\t0.06883288613042422\n",
            "  (11313, 41127)\t0.039704635902248736\n",
            "  (11313, 66857)\t0.19058690917753038\n",
            "  (11313, 68409)\t0.049284812059613034\n",
            "  (11313, 37287)\t0.13408173273609872\n",
            "  (11313, 41715)\t0.054705611892621644\n",
            "  (11313, 51326)\t0.03818144305612196\n",
            "  (11313, 68080)\t0.04463717354330131\n",
            "  (11313, 60560)\t0.061180430720823166\n",
            "ytr: [7 4 4 ... 3 1 8]\n"
          ],
          "name": "stdout"
        }
      ]
    },
    {
      "cell_type": "code",
      "metadata": {
        "id": "reJI97muivhG",
        "colab": {
          "base_uri": "https://localhost:8080/",
          "height": 918
        },
        "outputId": "5cef3d25-6e44-4137-d9f2-6efbc9e41660"
      },
      "source": [
        " \n",
        "# store testing feature matrix in \"Xtt\"\n",
        "Xtt = data_test_vectors\n",
        "print(\"Xtt:\\n\", Xtt)\n",
        " \n",
        "# store testing response vector in \"ytt\"\n",
        "ytt = data_test.target\n",
        "print(\"ytt:\",ytt)"
      ],
      "execution_count": null,
      "outputs": [
        {
          "output_type": "stream",
          "text": [
            "Xtt:\n",
            "   (0, 100208)\t0.04552652065236068\n",
            "  (0, 99908)\t0.09332616771302898\n",
            "  (0, 97240)\t0.11951258956562365\n",
            "  (0, 96391)\t0.05867573115101415\n",
            "  (0, 93592)\t0.24772115542399506\n",
            "  (0, 92955)\t0.11541103934826256\n",
            "  (0, 89360)\t0.06562103715075537\n",
            "  (0, 89092)\t0.14592509321427227\n",
            "  (0, 88767)\t0.044847221550678766\n",
            "  (0, 88694)\t0.05609512027045376\n",
            "  (0, 88578)\t0.07154608326188232\n",
            "  (0, 88532)\t0.2395528152171037\n",
            "  (0, 88519)\t0.03921639192748113\n",
            "  (0, 88501)\t0.06998314809025451\n",
            "  (0, 88138)\t0.09661130503410108\n",
            "  (0, 86307)\t0.14214443084125739\n",
            "  (0, 84598)\t0.15477036379403195\n",
            "  (0, 83888)\t0.09322903287306315\n",
            "  (0, 81241)\t0.14621282905564145\n",
            "  (0, 72905)\t0.2451939150765593\n",
            "  (0, 70695)\t0.1276914606142514\n",
            "  (0, 68781)\t0.06795439065647194\n",
            "  (0, 68409)\t0.0500814390762879\n",
            "  (0, 68080)\t0.04535867732725786\n",
            "  (0, 67670)\t0.14122099316299058\n",
            "  :\t:\n",
            "  (7531, 54632)\t0.07179487683313424\n",
            "  (7531, 51223)\t0.11159470709485804\n",
            "  (7531, 51136)\t0.16299891255024412\n",
            "  (7531, 48650)\t0.11268973116168066\n",
            "  (7531, 47204)\t0.3742651013346243\n",
            "  (7531, 46718)\t0.10259953279619993\n",
            "  (7531, 41127)\t0.08758885945302672\n",
            "  (7531, 40395)\t0.1242042674241263\n",
            "  (7531, 39397)\t0.14587422240960732\n",
            "  (7531, 37431)\t0.1374064333317423\n",
            "  (7531, 34763)\t0.14253575920405764\n",
            "  (7531, 34686)\t0.09972781595027391\n",
            "  (7531, 34018)\t0.13156050219981774\n",
            "  (7531, 30074)\t0.0802124821621346\n",
            "  (7531, 29356)\t0.1848622338971831\n",
            "  (7531, 27211)\t0.1356410245370251\n",
            "  (7531, 26461)\t0.31360713486156755\n",
            "  (7531, 24804)\t0.10687631679332683\n",
            "  (7531, 22267)\t0.09890856799181004\n",
            "  (7531, 22219)\t0.09074954412454103\n",
            "  (7531, 22152)\t0.09548173990914553\n",
            "  (7531, 19491)\t0.13341252869118972\n",
            "  (7531, 18903)\t0.06531484061746679\n",
            "  (7531, 18408)\t0.0604927351258423\n",
            "  (7531, 16408)\t0.1613676054291175\n",
            "ytt: [ 7  5  0 ...  9  6 15]\n"
          ],
          "name": "stdout"
        }
      ]
    },
    {
      "cell_type": "markdown",
      "metadata": {
        "id": "BzyoTFwYJa0f"
      },
      "source": [
        "\n",
        "# **K-Nearest Neighbors (KNN) classification**"
      ]
    },
    {
      "cell_type": "code",
      "metadata": {
        "id": "22YFmkLkivkS"
      },
      "source": [
        "# import the required module from scikit learn\n",
        "from sklearn.neighbors import KNeighborsClassifier"
      ],
      "execution_count": null,
      "outputs": []
    },
    {
      "cell_type": "code",
      "metadata": {
        "id": "DzUiilWhivm0",
        "colab": {
          "base_uri": "https://localhost:8080/",
          "height": 170
        },
        "outputId": "105ff4d8-223d-494c-9fa2-bbe486156c8a"
      },
      "source": [
        "# Implementing classification model- using KNeighborsClassifier\n",
        " \n",
        "# Instantiate the estimator\n",
        "clf_knn =  KNeighborsClassifier(n_neighbors=5)\n",
        " \n",
        "# Fit the model with data (aka \"model training\")\n",
        "clf_knn.fit(Xtr, ytr)\n",
        " \n",
        "# Predict the response for a new observation\n",
        "y_pred = clf_knn.predict(Xtt)\n",
        "print(\"Predicted Class Labels:\",y_pred)\n",
        " \n",
        "# Predict the response score for a new observation\n",
        "y_pred_score_knn = clf_knn.predict_proba(Xtt)\n",
        "print(\"Predicted Score:\\n\",y_pred_score_knn)"
      ],
      "execution_count": null,
      "outputs": [
        {
          "output_type": "stream",
          "text": [
            "Predicted Class Labels: [2 7 2 ... 1 2 2]\n",
            "Predicted Score:\n",
            " [[0.2 0.  0.4 ... 0.2 0.  0. ]\n",
            " [0.  0.  0.  ... 0.  0.  0. ]\n",
            " [0.  0.  0.2 ... 0.  0.  0. ]\n",
            " ...\n",
            " [0.  0.2 0.2 ... 0.2 0.2 0. ]\n",
            " [0.  0.  0.2 ... 0.  0.  0. ]\n",
            " [0.  0.  0.2 ... 0.  0.  0. ]]\n"
          ],
          "name": "stdout"
        }
      ]
    },
    {
      "cell_type": "code",
      "metadata": {
        "id": "atKHH4Edivfa",
        "colab": {
          "base_uri": "https://localhost:8080/",
          "height": 51
        },
        "outputId": "547b5586-fbb0-4c87-d1a8-6eb620e20152"
      },
      "source": [
        "# Instantiate the estimator\n",
        "clf_knn =  KNeighborsClassifier(n_neighbors=1, weights='distance')\n",
        " \n",
        "# Fit the model with data (aka \"model training\")\n",
        "clf_knn.fit(Xtr, ytr)\n",
        " \n",
        "# Predict the response for a new observation\n",
        "y_pred_knn = clf_knn.predict(Xtt)\n",
        "print(\"Predicted Class Labels:\",y_pred_knn)\n",
        "from sklearn.metrics import accuracy_score\n",
        "# calculate accuracy\n",
        "print (\"Classification Accuracy:\", accuracy_score(ytt, y_pred_knn))"
      ],
      "execution_count": null,
      "outputs": [
        {
          "output_type": "stream",
          "text": [
            "Predicted Class Labels: [4 4 4 ... 4 4 4]\n",
            "Classification Accuracy: 0.11338289962825279\n"
          ],
          "name": "stdout"
        }
      ]
    },
    {
      "cell_type": "code",
      "metadata": {
        "id": "M9Vznb-hj2Qm"
      },
      "source": [
        "from sklearn import svm "
      ],
      "execution_count": null,
      "outputs": []
    },
    {
      "cell_type": "code",
      "metadata": {
        "id": "Pf8hvWkvj8Tm",
        "colab": {
          "base_uri": "https://localhost:8080/",
          "height": 68
        },
        "outputId": "c218d224-2e25-4687-c3b2-ac4f6a9bed9b"
      },
      "source": [
        "clf = svm.SVC(C=1.0, kernel='linear', degree=3, gamma='auto')\n",
        "\n",
        "clf.fit(Xtr, ytr)\n",
        " \n",
        "y_pred = clf.predict(Xtt)\n",
        "print(\"Predicted Class Labels:\",y_pred)\n",
        " \n",
        "predictions_SVM = clf.predict(Xtt)\n",
        "print(\"Predicted Score:\\n\",y_pred) \n",
        "\n"
      ],
      "execution_count": null,
      "outputs": [
        {
          "output_type": "stream",
          "text": [
            "Predicted Class Labels: [ 7  1  8 ... 18 12 15]\n",
            "Predicted Score:\n",
            " [ 7  1  8 ... 18 12 15]\n"
          ],
          "name": "stdout"
        }
      ]
    },
    {
      "cell_type": "code",
      "metadata": {
        "id": "5-30kZBfk1kg"
      },
      "source": [
        "from sklearn import metrics"
      ],
      "execution_count": null,
      "outputs": []
    },
    {
      "cell_type": "code",
      "metadata": {
        "id": "drL_xToGj8Wc",
        "colab": {
          "base_uri": "https://localhost:8080/",
          "height": 34
        },
        "outputId": "36aad2b4-8dd3-49c7-9c98-ac2f771e62b1"
      },
      "source": [
        "print (\"Classification Accuracy:\", accuracy_score(ytt, y_pred))"
      ],
      "execution_count": null,
      "outputs": [
        {
          "output_type": "stream",
          "text": [
            "Classification Accuracy: 0.6631704726500266\n"
          ],
          "name": "stdout"
        }
      ]
    },
    {
      "cell_type": "code",
      "metadata": {
        "id": "2V0aoUTglPDO"
      },
      "source": [
        "from sklearn.naive_bayes import MultinomialNB"
      ],
      "execution_count": null,
      "outputs": []
    },
    {
      "cell_type": "code",
      "metadata": {
        "id": "pnS_u_8ll39J",
        "colab": {
          "base_uri": "https://localhost:8080/",
          "height": 34
        },
        "outputId": "64492478-ffe4-430b-e50f-6d5c8751f6b3"
      },
      "source": [
        "\n",
        "Naive = MultinomialNB()\n",
        "Naive.fit(Xtr,ytr)\n",
        "# predict the labels on validation dataset\n",
        "y_pred = Naive.predict(Xtt)\n",
        "# Use accuracy_score function to get the accuracy\n",
        "print(\"Naive Bayes Accuracy Score -> \",accuracy_score(y_pred, ytt))"
      ],
      "execution_count": null,
      "outputs": [
        {
          "output_type": "stream",
          "text": [
            "Naive Bayes Accuracy Score ->  0.6062134891131173\n"
          ],
          "name": "stdout"
        }
      ]
    }
  ]
}